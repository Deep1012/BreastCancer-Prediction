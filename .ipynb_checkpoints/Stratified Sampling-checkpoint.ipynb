{
 "cells": [
  {
   "cell_type": "markdown",
   "id": "0d6c6376-6125-40bb-a9e0-b6f5e564f8d1",
   "metadata": {},
   "source": [
    "#### DWM-08P: Take BreastCancer.csv file. (1) (a) Find which attributes should be trivially excluded for classification. (b) Divide the data into Training Set (70%) and Test Set (30%) using Stratified Sampling method. (2) Using Logistic Regression to train the model using the Training Set. (3) Write the Model and use the model for testing it using Test Set. Determine the accuracy of the Classifier."
   ]
  },
  {
   "cell_type": "code",
   "execution_count": 73,
   "id": "0a61d45f-88d6-406b-9fe0-e4bcf3736d78",
   "metadata": {},
   "outputs": [],
   "source": [
    "# Importing necessary libraries\n",
    "import pandas as pd\n",
    "import matplotlib.pyplot as plt\n",
    "import seaborn as sns"
   ]
  },
  {
   "cell_type": "code",
   "execution_count": 74,
   "id": "a06a1937-27b7-4b33-90e9-0d43e7bc53d9",
   "metadata": {},
   "outputs": [
    {
     "data": {
      "text/html": [
       "<div>\n",
       "<style scoped>\n",
       "    .dataframe tbody tr th:only-of-type {\n",
       "        vertical-align: middle;\n",
       "    }\n",
       "\n",
       "    .dataframe tbody tr th {\n",
       "        vertical-align: top;\n",
       "    }\n",
       "\n",
       "    .dataframe thead th {\n",
       "        text-align: right;\n",
       "    }\n",
       "</style>\n",
       "<table border=\"1\" class=\"dataframe\">\n",
       "  <thead>\n",
       "    <tr style=\"text-align: right;\">\n",
       "      <th></th>\n",
       "      <th>Id</th>\n",
       "      <th>Cl.thickness</th>\n",
       "      <th>Cell.size</th>\n",
       "      <th>Cell.shape</th>\n",
       "      <th>Marg.adhesion</th>\n",
       "      <th>Epith.c.size</th>\n",
       "      <th>Bare.nuclei</th>\n",
       "      <th>Bl.cromatin</th>\n",
       "      <th>Normal.nucleoli</th>\n",
       "      <th>Mitoses</th>\n",
       "      <th>Class</th>\n",
       "    </tr>\n",
       "  </thead>\n",
       "  <tbody>\n",
       "    <tr>\n",
       "      <th>0</th>\n",
       "      <td>1000025</td>\n",
       "      <td>5</td>\n",
       "      <td>1</td>\n",
       "      <td>1</td>\n",
       "      <td>1</td>\n",
       "      <td>2</td>\n",
       "      <td>1.0</td>\n",
       "      <td>3</td>\n",
       "      <td>1</td>\n",
       "      <td>1</td>\n",
       "      <td>benign</td>\n",
       "    </tr>\n",
       "    <tr>\n",
       "      <th>1</th>\n",
       "      <td>1002945</td>\n",
       "      <td>5</td>\n",
       "      <td>4</td>\n",
       "      <td>4</td>\n",
       "      <td>5</td>\n",
       "      <td>7</td>\n",
       "      <td>10.0</td>\n",
       "      <td>3</td>\n",
       "      <td>2</td>\n",
       "      <td>1</td>\n",
       "      <td>benign</td>\n",
       "    </tr>\n",
       "    <tr>\n",
       "      <th>2</th>\n",
       "      <td>1015425</td>\n",
       "      <td>3</td>\n",
       "      <td>1</td>\n",
       "      <td>1</td>\n",
       "      <td>1</td>\n",
       "      <td>2</td>\n",
       "      <td>2.0</td>\n",
       "      <td>3</td>\n",
       "      <td>1</td>\n",
       "      <td>1</td>\n",
       "      <td>benign</td>\n",
       "    </tr>\n",
       "    <tr>\n",
       "      <th>3</th>\n",
       "      <td>1016277</td>\n",
       "      <td>6</td>\n",
       "      <td>8</td>\n",
       "      <td>8</td>\n",
       "      <td>1</td>\n",
       "      <td>3</td>\n",
       "      <td>4.0</td>\n",
       "      <td>3</td>\n",
       "      <td>7</td>\n",
       "      <td>1</td>\n",
       "      <td>benign</td>\n",
       "    </tr>\n",
       "    <tr>\n",
       "      <th>4</th>\n",
       "      <td>1017023</td>\n",
       "      <td>4</td>\n",
       "      <td>1</td>\n",
       "      <td>1</td>\n",
       "      <td>3</td>\n",
       "      <td>2</td>\n",
       "      <td>1.0</td>\n",
       "      <td>3</td>\n",
       "      <td>1</td>\n",
       "      <td>1</td>\n",
       "      <td>benign</td>\n",
       "    </tr>\n",
       "    <tr>\n",
       "      <th>...</th>\n",
       "      <td>...</td>\n",
       "      <td>...</td>\n",
       "      <td>...</td>\n",
       "      <td>...</td>\n",
       "      <td>...</td>\n",
       "      <td>...</td>\n",
       "      <td>...</td>\n",
       "      <td>...</td>\n",
       "      <td>...</td>\n",
       "      <td>...</td>\n",
       "      <td>...</td>\n",
       "    </tr>\n",
       "    <tr>\n",
       "      <th>694</th>\n",
       "      <td>776715</td>\n",
       "      <td>3</td>\n",
       "      <td>1</td>\n",
       "      <td>1</td>\n",
       "      <td>1</td>\n",
       "      <td>3</td>\n",
       "      <td>2.0</td>\n",
       "      <td>1</td>\n",
       "      <td>1</td>\n",
       "      <td>1</td>\n",
       "      <td>benign</td>\n",
       "    </tr>\n",
       "    <tr>\n",
       "      <th>695</th>\n",
       "      <td>841769</td>\n",
       "      <td>2</td>\n",
       "      <td>1</td>\n",
       "      <td>1</td>\n",
       "      <td>1</td>\n",
       "      <td>2</td>\n",
       "      <td>1.0</td>\n",
       "      <td>1</td>\n",
       "      <td>1</td>\n",
       "      <td>1</td>\n",
       "      <td>benign</td>\n",
       "    </tr>\n",
       "    <tr>\n",
       "      <th>696</th>\n",
       "      <td>888820</td>\n",
       "      <td>5</td>\n",
       "      <td>10</td>\n",
       "      <td>10</td>\n",
       "      <td>3</td>\n",
       "      <td>7</td>\n",
       "      <td>3.0</td>\n",
       "      <td>8</td>\n",
       "      <td>10</td>\n",
       "      <td>2</td>\n",
       "      <td>malignant</td>\n",
       "    </tr>\n",
       "    <tr>\n",
       "      <th>697</th>\n",
       "      <td>897471</td>\n",
       "      <td>4</td>\n",
       "      <td>8</td>\n",
       "      <td>6</td>\n",
       "      <td>4</td>\n",
       "      <td>3</td>\n",
       "      <td>4.0</td>\n",
       "      <td>10</td>\n",
       "      <td>6</td>\n",
       "      <td>1</td>\n",
       "      <td>malignant</td>\n",
       "    </tr>\n",
       "    <tr>\n",
       "      <th>698</th>\n",
       "      <td>897471</td>\n",
       "      <td>4</td>\n",
       "      <td>8</td>\n",
       "      <td>8</td>\n",
       "      <td>5</td>\n",
       "      <td>4</td>\n",
       "      <td>5.0</td>\n",
       "      <td>10</td>\n",
       "      <td>4</td>\n",
       "      <td>1</td>\n",
       "      <td>malignant</td>\n",
       "    </tr>\n",
       "  </tbody>\n",
       "</table>\n",
       "<p>699 rows × 11 columns</p>\n",
       "</div>"
      ],
      "text/plain": [
       "          Id  Cl.thickness  Cell.size  Cell.shape  Marg.adhesion  \\\n",
       "0    1000025             5          1           1              1   \n",
       "1    1002945             5          4           4              5   \n",
       "2    1015425             3          1           1              1   \n",
       "3    1016277             6          8           8              1   \n",
       "4    1017023             4          1           1              3   \n",
       "..       ...           ...        ...         ...            ...   \n",
       "694   776715             3          1           1              1   \n",
       "695   841769             2          1           1              1   \n",
       "696   888820             5         10          10              3   \n",
       "697   897471             4          8           6              4   \n",
       "698   897471             4          8           8              5   \n",
       "\n",
       "     Epith.c.size  Bare.nuclei  Bl.cromatin  Normal.nucleoli  Mitoses  \\\n",
       "0               2          1.0            3                1        1   \n",
       "1               7         10.0            3                2        1   \n",
       "2               2          2.0            3                1        1   \n",
       "3               3          4.0            3                7        1   \n",
       "4               2          1.0            3                1        1   \n",
       "..            ...          ...          ...              ...      ...   \n",
       "694             3          2.0            1                1        1   \n",
       "695             2          1.0            1                1        1   \n",
       "696             7          3.0            8               10        2   \n",
       "697             3          4.0           10                6        1   \n",
       "698             4          5.0           10                4        1   \n",
       "\n",
       "         Class  \n",
       "0       benign  \n",
       "1       benign  \n",
       "2       benign  \n",
       "3       benign  \n",
       "4       benign  \n",
       "..         ...  \n",
       "694     benign  \n",
       "695     benign  \n",
       "696  malignant  \n",
       "697  malignant  \n",
       "698  malignant  \n",
       "\n",
       "[699 rows x 11 columns]"
      ]
     },
     "execution_count": 74,
     "metadata": {},
     "output_type": "execute_result"
    }
   ],
   "source": [
    "# Importing dataset\n",
    "data = pd.read_csv('BreastCancer.csv')\n",
    "data"
   ]
  },
  {
   "cell_type": "code",
   "execution_count": 75,
   "id": "0fa9d6cf-ddb4-4fdf-a998-5f1f841a3264",
   "metadata": {},
   "outputs": [
    {
     "name": "stdout",
     "output_type": "stream",
     "text": [
      "Id                  0\n",
      "Cl.thickness        0\n",
      "Cell.size           0\n",
      "Cell.shape          0\n",
      "Marg.adhesion       0\n",
      "Epith.c.size        0\n",
      "Bare.nuclei        16\n",
      "Bl.cromatin         0\n",
      "Normal.nucleoli     0\n",
      "Mitoses             0\n",
      "Class               0\n",
      "dtype: int64\n"
     ]
    }
   ],
   "source": [
    "# Check for null values in all columns\n",
    "null_values = data.isnull().sum()\n",
    "\n",
    "# Print the null values count for each column\n",
    "print(null_values)"
   ]
  },
  {
   "cell_type": "code",
   "execution_count": 76,
   "id": "73bcef2a-708f-4dcc-800e-6e16736db8aa",
   "metadata": {},
   "outputs": [
    {
     "name": "stdout",
     "output_type": "stream",
     "text": [
      "Id                 0\n",
      "Cl.thickness       0\n",
      "Cell.size          0\n",
      "Cell.shape         0\n",
      "Marg.adhesion      0\n",
      "Epith.c.size       0\n",
      "Bare.nuclei        0\n",
      "Bl.cromatin        0\n",
      "Normal.nucleoli    0\n",
      "Mitoses            0\n",
      "Class              0\n",
      "dtype: int64\n"
     ]
    }
   ],
   "source": [
    "# Dropping rows with missing values\n",
    "data = data.dropna()\n",
    "\n",
    "# Checking for null values again to confirm they have been removed\n",
    "null_values = data.isnull().sum()\n",
    "print(null_values)\n",
    "\n",
    "# # Calculate the mean of the 'Bare.nuclei' column\n",
    "# mean_bare_nuclei = data['Bare.nuclei'].mean()\n",
    "\n",
    "# # Replace missing values in the 'Bare.nuclei' column with the mean\n",
    "# data['Bare.nuclei'] = data['Bare.nuclei'].fillna(mean_bare_nuclei)"
   ]
  },
  {
   "cell_type": "code",
   "execution_count": 77,
   "id": "3f5586a0-12da-448b-bbf3-d41dbd610ed2",
   "metadata": {},
   "outputs": [
    {
     "name": "stderr",
     "output_type": "stream",
     "text": [
      "C:\\Users\\DELL\\AppData\\Local\\Temp\\ipykernel_5376\\3915732708.py:5: SettingWithCopyWarning: \n",
      "A value is trying to be set on a copy of a slice from a DataFrame.\n",
      "Try using .loc[row_indexer,col_indexer] = value instead\n",
      "\n",
      "See the caveats in the documentation: https://pandas.pydata.org/pandas-docs/stable/user_guide/indexing.html#returning-a-view-versus-a-copy\n",
      "  data['Class_enc'] = le.fit_transform(data['Class'])\n"
     ]
    }
   ],
   "source": [
    "# There is no need of encoding diagnosis column as it is the dependent variable(y)\n",
    "# But we encode the diagnosis column to find correlation and make a heatmap\n",
    "from sklearn.preprocessing import LabelEncoder\n",
    "le = LabelEncoder()\n",
    "data['Class_enc'] = le.fit_transform(data['Class'])"
   ]
  },
  {
   "cell_type": "code",
   "execution_count": 78,
   "id": "8cd54668-0634-4063-8a97-b396d95f6d87",
   "metadata": {},
   "outputs": [],
   "source": [
    "# Deleting the diagnosis column as we encoded it in diagnosis_enc\n",
    "data = data.drop('Class', axis=1)"
   ]
  },
  {
   "cell_type": "code",
   "execution_count": 79,
   "id": "0eef9b97-83be-455d-a2db-c60093923f21",
   "metadata": {},
   "outputs": [
    {
     "data": {
      "text/plain": [
       "<Axes: >"
      ]
     },
     "execution_count": 79,
     "metadata": {},
     "output_type": "execute_result"
    },
    {
     "data": {
      "image/png": "[encoded data removed]",
      "text/plain": [
       "<Figure size 3000x2000 with 2 Axes>"
      ]
     },
     "metadata": {},
     "output_type": "display_data"
    }
   ],
   "source": [
    "# Plotting a heatmap\n",
    "x = data.corr()\n",
    "plt.figure(figsize=(30, 20))\n",
    "sns.heatmap(x,annot=True,cmap='PuBu')"
   ]
  },
  {
   "cell_type": "code",
   "execution_count": 80,
   "id": "27100288-2f38-49a9-abc8-f04dd71bbbeb",
   "metadata": {},
   "outputs": [
    {
     "name": "stdout",
     "output_type": "stream",
     "text": [
      "Id                 0.084701\n",
      "Mitoses            0.423448\n",
      "Epith.c.size       0.690958\n",
      "Marg.adhesion      0.706294\n",
      "Cl.thickness       0.714790\n",
      "Normal.nucleoli    0.718677\n",
      "Bl.cromatin        0.758228\n",
      "Cell.size          0.820801\n",
      "Cell.shape         0.821891\n",
      "Bare.nuclei        0.822696\n",
      "Class_enc          1.000000\n",
      "Name: Class_enc, dtype: float64\n"
     ]
    }
   ],
   "source": [
    "# Finding the correlation of all the columns with the diagnosis column\n",
    "correlations = data.corr()['Class_enc'].abs().sort_values()\n",
    "\n",
    "# Print the correlations\n",
    "print(correlations)"
   ]
  },
  {
   "cell_type": "code",
   "execution_count": 81,
   "id": "2c55183b-9218-466e-93b5-c28d61816272",
   "metadata": {},
   "outputs": [],
   "source": [
    "# We have deleted all the columns that have correlation less than 0.3 with the diagnosis_enc column\n",
    "data1 = data.drop(['Id','Mitoses'],axis=1)"
   ]
  },
  {
   "cell_type": "code",
   "execution_count": 82,
   "id": "29387e77-6bb2-4d1f-a462-bca06333c9ef",
   "metadata": {},
   "outputs": [],
   "source": [
    "# Defining the independent variable (X) and dependent variable (y)\n",
    "X = data1.drop([\"Class_enc\"], axis = 1)\n",
    "y = data1[\"Class_enc\"]\n",
    "\n",
    "# Splitting the dataset into 70% training and 30% testing data with use of stratified sampling method\n",
    "from sklearn.model_selection import train_test_split\n",
    "X_train, X_test, y_train,y_test = train_test_split(X, y, test_size=0.3, stratify=y)"
   ]
  },
  {
   "cell_type": "code",
   "execution_count": 83,
   "id": "c4e3812e-7279-4e86-b26f-bce7388f2d66",
   "metadata": {},
   "outputs": [],
   "source": [
    "# Scaling the data using the Standard Scaler method\n",
    "# Formula : x' = x-mean(x)/std(x)\n",
    "from sklearn.preprocessing import StandardScaler\n",
    "scaler = StandardScaler()\n",
    "# Using fit_transform function to transform the training data\n",
    "X_train = scaler.fit_transform(X_train)\n",
    "# Using transform function to transform the testing data\n",
    "X_test = scaler.transform(X_test)"
   ]
  },
  {
   "cell_type": "code",
   "execution_count": 84,
   "id": "3f6cb6c2-cd3c-410c-9d23-3b5d331dc40f",
   "metadata": {
    "scrolled": true
   },
   "outputs": [
    {
     "name": "stdout",
     "output_type": "stream",
     "text": [
      "Accuracy of the Naive Bayes Classifier: 0.9560975609756097\n"
     ]
    }
   ],
   "source": [
    "from sklearn.naive_bayes import GaussianNB  # Import Gaussian Naive Bayes\n",
    "from sklearn.metrics import accuracy_score   # Import accuracy_score\n",
    "\n",
    "# Initialize the Naive Bayes model\n",
    "naive_bayes = GaussianNB()\n",
    "\n",
    "# Fit the training data to the Naive Bayes model\n",
    "naive_bayes.fit(X_train, y_train)\n",
    "\n",
    "# Make predictions on the test data\n",
    "y_pred_nb = naive_bayes.predict(X_test)\n",
    "\n",
    "# Evaluate the Naive Bayes model's performance\n",
    "accuracy_nb = accuracy_score(y_test, y_pred_nb)\n",
    "print(f'Accuracy of the Naive Bayes Classifier: {accuracy_nb}')"
   ]
  },
  {
   "cell_type": "code",
   "execution_count": 85,
   "id": "0ebc7aaf-b418-47bb-aae1-c4b02abe0cd1",
   "metadata": {},
   "outputs": [
    {
     "name": "stdout",
     "output_type": "stream",
     "text": [
      "Cross-validation scores: [0.95620438 0.94160584 0.96350365 0.97058824 0.98529412]\n",
      "Mean accuracy: 0.963439244310863\n",
      "Standard deviation of accuracy: 0.014545023519402015\n"
     ]
    }
   ],
   "source": [
    "from sklearn.model_selection import cross_val_score\n",
    "from sklearn.naive_bayes import GaussianNB  # Import Gaussian Naive Bayes\n",
    "\n",
    "# Create a Naive Bayes model (Gaussian Naive Bayes for continuous data)\n",
    "naive_bayes_model = GaussianNB()\n",
    "\n",
    "# Perform k-fold cross-validation with k=5\n",
    "# Change the value of 'cv' parameter to specify the number of folds (k)\n",
    "# 'scoring' parameter specifies the evaluation metric (e.g., accuracy, precision, recall)\n",
    "nb_scores = cross_val_score(naive_bayes_model, X, y, cv=5, scoring='accuracy')\n",
    "\n",
    "# Print the cross-validation scores\n",
    "print(\"Cross-validation scores:\", nb_scores)\n",
    "\n",
    "# Calculate and print the mean and standard deviation of the cross-validation scores\n",
    "print(\"Mean accuracy:\", nb_scores.mean())\n",
    "print(\"Standard deviation of accuracy:\", nb_scores.std())"
   ]
  }
 ],
 "metadata": {
  "kernelspec": {
   "display_name": "Python 3 (ipykernel)",
   "language": "python",
   "name": "python3"
  },
  "language_info": {
   "codemirror_mode": {
    "name": "ipython",
    "version": 3
   },
   "file_extension": ".py",
   "mimetype": "text/x-python",
   "name": "python",
   "nbconvert_exporter": "python",
   "pygments_lexer": "ipython3",
   "version": "3.11.7"
  }
 },
 "nbformat": 4,
 "nbformat_minor": 5
}
